{
  "nbformat": 4,
  "nbformat_minor": 0,
  "metadata": {
    "colab": {
      "name": "Week2HW_1004286.ipynb",
      "provenance": [],
      "collapsed_sections": []
    },
    "kernelspec": {
      "name": "python3",
      "display_name": "Python 3"
    },
    "language_info": {
      "name": "python"
    }
  },
  "cells": [
    {
      "cell_type": "markdown",
      "source": [
        "## Question 1"
      ],
      "metadata": {
        "id": "NnkBRngDMLLd"
      }
    },
    {
      "cell_type": "code",
      "execution_count": null,
      "metadata": {
        "id": "mDOFgY6FLl4L"
      },
      "outputs": [],
      "source": [
        "from search import *\n",
        "from utils import *\n",
        "import string"
      ]
    },
    {
      "cell_type": "code",
      "source": [
        "WORDS = set(i.lower().strip() for i in open('words2.txt'))\n",
        "def is_valid_word(word): \n",
        "  return word in WORDS\n"
      ],
      "metadata": {
        "id": "iOsA6PuOMN9K"
      },
      "execution_count": null,
      "outputs": []
    },
    {
      "cell_type": "code",
      "source": [
        "def change_string(prev_word, character, index): \n",
        "  return prev_word[:index] + character + prev_word[index+1:]"
      ],
      "metadata": {
        "id": "8XdayZYWM10u"
      },
      "execution_count": null,
      "outputs": []
    },
    {
      "cell_type": "code",
      "source": [
        "class WordLadders(Problem):\n",
        "    \n",
        "    def __init__(self, initial, goal):\n",
        "        super().__init__(initial, goal)\n",
        "\n",
        "    def actions(self, state):\n",
        "        action_list = []\n",
        "        for i in range(len(state)):\n",
        "            for l in string.ascii_lowercase:\n",
        "                changed_string = change_string(state, l, i)\n",
        "                if is_valid_word(changed_string):\n",
        "                    action_list.append(f\"Change {state} with {changed_string}\")\n",
        "                    \n",
        "        return action_list\n",
        "    \n",
        "    def result(self, state, action):\n",
        "        return action.split()[-1]"
      ],
      "metadata": {
        "id": "N61tvN8_MolH"
      },
      "execution_count": null,
      "outputs": []
    },
    {
      "cell_type": "markdown",
      "source": [
        "example one"
      ],
      "metadata": {
        "id": "30ReBNo-Ooru"
      }
    },
    {
      "cell_type": "code",
      "source": [
        "exl = WordLadders(\"cars\", \"cats\")\n",
        "node = breadth_first_search(exl)\n",
        "node.solution()"
      ],
      "metadata": {
        "colab": {
          "base_uri": "https://localhost:8080/"
        },
        "id": "VFG_DV8hOZef",
        "outputId": "94732f88-bc78-4ea8-9515-aab25af0c82b"
      },
      "execution_count": null,
      "outputs": [
        {
          "output_type": "execute_result",
          "data": {
            "text/plain": [
              "['Change cars with cats']"
            ]
          },
          "metadata": {},
          "execution_count": 7
        }
      ]
    },
    {
      "cell_type": "markdown",
      "source": [
        "example 2"
      ],
      "metadata": {
        "id": "-DxMCoTMO5e_"
      }
    },
    {
      "cell_type": "code",
      "source": [
        "ex2 = WordLadders(\"cold\", \"warm\")\n",
        "node = breadth_first_search(ex2)\n",
        "node.solution()"
      ],
      "metadata": {
        "colab": {
          "base_uri": "https://localhost:8080/"
        },
        "id": "yHHmsMGZOzpP",
        "outputId": "fd369cef-a9e8-45b0-a3c7-3743786f6b41"
      },
      "execution_count": null,
      "outputs": [
        {
          "output_type": "execute_result",
          "data": {
            "text/plain": [
              "['Change cold with cord',\n",
              " 'Change cord with word',\n",
              " 'Change word with ward',\n",
              " 'Change ward with warm']"
            ]
          },
          "metadata": {},
          "execution_count": 8
        }
      ]
    },
    {
      "cell_type": "markdown",
      "source": [
        "example three"
      ],
      "metadata": {
        "id": "0GlUB2dpO7hs"
      }
    },
    {
      "cell_type": "code",
      "source": [
        "ex3 = WordLadders(\"best\", \"math\")\n",
        "node = breadth_first_search(ex3)\n",
        "node.solution()"
      ],
      "metadata": {
        "colab": {
          "base_uri": "https://localhost:8080/"
        },
        "id": "CEzrD5c8O8s-",
        "outputId": "f19c8e3e-2bd9-4492-85b6-aa5957337b6f"
      },
      "execution_count": null,
      "outputs": [
        {
          "output_type": "execute_result",
          "data": {
            "text/plain": [
              "['Change best with bast',\n",
              " 'Change bast with mast',\n",
              " 'Change mast with mash',\n",
              " 'Change mash with math']"
            ]
          },
          "metadata": {},
          "execution_count": 9
        }
      ]
    },
    {
      "cell_type": "markdown",
      "source": [
        "## Question 2"
      ],
      "metadata": {
        "id": "kAYiVU8rP6TG"
      }
    },
    {
      "cell_type": "markdown",
      "source": [
        "**Part 1**\n"
      ],
      "metadata": {
        "id": "aaxfOWZcW20y"
      }
    },
    {
      "cell_type": "markdown",
      "source": [
        "Current city and current time."
      ],
      "metadata": {
        "id": "FqbNQXjRW99a"
      }
    },
    {
      "cell_type": "markdown",
      "source": [
        "**Part 2**"
      ],
      "metadata": {
        "id": "xWDTQAzxXKsq"
      }
    },
    {
      "cell_type": "code",
      "source": [
        "class Flight:\n",
        "    def __init__(self, start_city, start_time, end_city, end_time):\n",
        "        self.start_city = start_city\n",
        "        self.start_time = start_time\n",
        "        self.end_city = end_city\n",
        "        self.end_time = end_time\n",
        "    \n",
        "    def __str__(self):\n",
        "        return str((self.start_city, self.start_time)) + ' -> ' + str((self.end_city, self.end_time))\n",
        "    __repr__ = __str__\n",
        "    \n",
        "    def matches(self, inputs):\n",
        "        city, time = inputs\n",
        "        return city == self.start_city and time <= self.start_time\n",
        "    \n",
        "flightDB = [\n",
        "    Flight('Rome', 1, 'Paris', 4),\n",
        "    Flight('Rome', 3, 'Madrid', 5),\n",
        "    Flight('Rome', 5, 'Istanbul', 10),\n",
        "    Flight('Paris', 2, 'London', 4),\n",
        "    Flight('Paris', 5, 'Oslo', 7),\n",
        "    Flight('Paris', 5, 'Istanbul', 9),\n",
        "    Flight('Madrid', 7, 'Rabat', 10),\n",
        "    Flight('Madrid', 8, 'London', 10),\n",
        "    Flight('Istanbul', 10, 'Constantinople', 10)\n",
        "]\n",
        "\n",
        "print(\"Flights\")\n",
        "for f in flightDB:\n",
        "    print(f)"
      ],
      "metadata": {
        "colab": {
          "base_uri": "https://localhost:8080/"
        },
        "id": "3PWiEjD8P9ZL",
        "outputId": "b7584780-bd13-494c-8bf2-6d7b26e0afb6"
      },
      "execution_count": null,
      "outputs": [
        {
          "output_type": "stream",
          "name": "stdout",
          "text": [
            "Flights\n",
            "('Rome', 1) -> ('Paris', 4)\n",
            "('Rome', 3) -> ('Madrid', 5)\n",
            "('Rome', 5) -> ('Istanbul', 10)\n",
            "('Paris', 2) -> ('London', 4)\n",
            "('Paris', 5) -> ('Oslo', 7)\n",
            "('Paris', 5) -> ('Istanbul', 9)\n",
            "('Madrid', 7) -> ('Rabat', 10)\n",
            "('Madrid', 8) -> ('London', 10)\n",
            "('Istanbul', 10) -> ('Constantinople', 10)\n"
          ]
        }
      ]
    },
    {
      "cell_type": "markdown",
      "source": [
        "**Part 3**"
      ],
      "metadata": {
        "id": "pwIWoz4UYNQC"
      }
    },
    {
      "cell_type": "code",
      "source": [
        "class Itinerary(Problem):\n",
        "    \n",
        "    def __init__(self, initial, goal):\n",
        "        super().__init__(initial, goal)\n",
        "        \n",
        "    def actions(self, state):\n",
        "        action_list = []\n",
        "        for f in flightDB:\n",
        "            if f.matches(state):\n",
        "                action_list.append(f)\n",
        "        return action_list\n",
        "    \n",
        "    def result(self, state, action):\n",
        "        return (action.end_city, action.end_time)\n",
        "    \n",
        "    def goal_test(self, state):\n",
        "        current_city, current_time = state\n",
        "        goal_city, goal_time = self.goal\n",
        "        return current_city == goal_city and current_time <= goal_time\n",
        "    \n",
        "def find_itinerary(start_city, start_time, end_city, deadline):\n",
        "    itinerary = Itinerary( (start_city,start_time), (end_city,deadline) )\n",
        "    node = breadth_first_search(itinerary)\n",
        "    if not node: return None\n",
        "    return node.solution()"
      ],
      "metadata": {
        "id": "IRxHZ8AKYPov"
      },
      "execution_count": null,
      "outputs": []
    },
    {
      "cell_type": "code",
      "source": [
        "find_itinerary('Rome', 0, 'London', 10)"
      ],
      "metadata": {
        "colab": {
          "base_uri": "https://localhost:8080/"
        },
        "id": "6LrX8C8GZnNM",
        "outputId": "b94828f2-6adc-4def-8f13-23a99abe994c"
      },
      "execution_count": null,
      "outputs": [
        {
          "output_type": "execute_result",
          "data": {
            "text/plain": [
              "[('Rome', 3) -> ('Madrid', 5), ('Madrid', 8) -> ('London', 10)]"
            ]
          },
          "metadata": {},
          "execution_count": 15
        }
      ]
    },
    {
      "cell_type": "markdown",
      "source": [
        "**Part 4**"
      ],
      "metadata": {
        "id": "iD8UL0P1Z3t_"
      }
    },
    {
      "cell_type": "code",
      "source": [
        "def find_shortest_itinerary(start_city, end_city):\n",
        "    times_called = 0\n",
        "    start_time = 1\n",
        "    deadline = 1\n",
        "    solution = None\n",
        "    while not solution:\n",
        "        solution = find_itinerary(start_city, start_time, end_city, deadline)\n",
        "        deadline += 1\n",
        "        times_called += 1\n",
        "        \n",
        "    print(\"No. of times called:\" + str(times_called))\n",
        "    return solution"
      ],
      "metadata": {
        "id": "Jl70Fi6ZZ6pK"
      },
      "execution_count": null,
      "outputs": []
    },
    {
      "cell_type": "code",
      "source": [
        "find_shortest_itinerary('Rome', 'Istanbul')"
      ],
      "metadata": {
        "colab": {
          "base_uri": "https://localhost:8080/"
        },
        "id": "3tzyHdJ_c29N",
        "outputId": "9d13d00f-4a25-4a13-935b-d34bb4e59a87"
      },
      "execution_count": null,
      "outputs": [
        {
          "output_type": "stream",
          "name": "stdout",
          "text": [
            "No. of times called:9\n"
          ]
        },
        {
          "output_type": "execute_result",
          "data": {
            "text/plain": [
              "[('Rome', 1) -> ('Paris', 4), ('Paris', 5) -> ('Istanbul', 9)]"
            ]
          },
          "metadata": {},
          "execution_count": 19
        }
      ]
    },
    {
      "cell_type": "markdown",
      "source": [
        "*minimize num times find_itenerary called*"
      ],
      "metadata": {
        "id": "P0xEZg08dyhq"
      }
    },
    {
      "cell_type": "code",
      "source": [
        "def find_shortest_itinerary_improved(start_city, end_city):\n",
        "    times_called = 0\n",
        "    start_time = 1\n",
        "    deadline = 1\n",
        "    solution = None\n",
        "    solution = find_itinerary(start_city, start_time, end_city, deadline)\n",
        "    times_called += 1\n",
        "    while not solution:\n",
        "      deadline +=4\n",
        "      solution = find_itinerary(start_city, start_time, end_city, deadline)\n",
        "      times_called += 1\n",
        "    while solution:\n",
        "      deadline -= 1\n",
        "      final_solution = solution\n",
        "      solution = find_itinerary(start_city, start_time, end_city, deadline)\n",
        "      times_called += 1\n",
        "    print(\"No. of times called:\" + str(times_called))\n",
        "    return final_solution"
      ],
      "metadata": {
        "id": "rQ46fF3hdxZj"
      },
      "execution_count": null,
      "outputs": []
    },
    {
      "cell_type": "code",
      "source": [
        "find_shortest_itinerary_improved('Rome', 'Istanbul')"
      ],
      "metadata": {
        "colab": {
          "base_uri": "https://localhost:8080/"
        },
        "id": "ROfK1VO2hFkJ",
        "outputId": "65932a2b-37f2-4a19-b322-4242d6e295f0"
      },
      "execution_count": null,
      "outputs": [
        {
          "output_type": "stream",
          "name": "stdout",
          "text": [
            "No. of times called:4\n"
          ]
        },
        {
          "output_type": "execute_result",
          "data": {
            "text/plain": [
              "[('Rome', 1) -> ('Paris', 4), ('Paris', 5) -> ('Istanbul', 9)]"
            ]
          },
          "metadata": {},
          "execution_count": 33
        }
      ]
    }
  ]
}